{
 "cells": [
  {
   "cell_type": "markdown",
   "metadata": {},
   "source": [
    "# Global Temperature Anomoly\n",
    "\n",
    "This notebook generates the texture image which contains the data for the Uniview Global Temperature Anomoly data module.\n",
    "\n",
    "The dataset comes from the Goddard Institute for Space Studies: https://data.giss.nasa.gov/gistemp/\n"
   ]
  },
  {
   "cell_type": "code",
   "execution_count": 1,
   "metadata": {
    "collapsed": true
   },
   "outputs": [],
   "source": [
    "from astropy.io import ascii"
   ]
  },
  {
   "cell_type": "code",
   "execution_count": 2,
   "metadata": {
    "collapsed": false
   },
   "outputs": [],
   "source": [
    "dtTable = ascii.read('GLB.Ts+dSST_2.csv',header_start=1,data_start=2)"
   ]
  },
  {
   "cell_type": "code",
   "execution_count": 3,
   "metadata": {
    "collapsed": false
   },
   "outputs": [
    {
     "data": {
      "text/html": [
       "&lt;Table length=137&gt;\n",
       "<table id=\"table2944367273240\" class=\"table-striped table-bordered table-condensed\">\n",
       "<thead><tr><th>Year</th><th>Jan</th><th>Feb</th><th>Mar</th><th>Apr</th><th>May</th><th>Jun</th><th>Jul</th><th>Aug</th><th>Sep</th><th>Oct</th><th>Nov</th><th>Dec</th><th>J-D</th><th>D-N</th><th>DJF</th><th>MAM</th><th>JJA</th><th>SON</th></tr></thead>\n",
       "<thead><tr><th>int32</th><th>float64</th><th>float64</th><th>float64</th><th>float64</th><th>float64</th><th>float64</th><th>float64</th><th>float64</th><th>float64</th><th>float64</th><th>float64</th><th>float64</th><th>float64</th><th>str4</th><th>str4</th><th>float64</th><th>float64</th><th>float64</th></tr></thead>\n",
       "<tr><td>1880</td><td>-0.3</td><td>-0.21</td><td>-0.18</td><td>-0.27</td><td>-0.14</td><td>-0.29</td><td>-0.24</td><td>-0.08</td><td>-0.17</td><td>-0.16</td><td>-0.19</td><td>-0.22</td><td>-0.2</td><td>***</td><td>***</td><td>-0.2</td><td>-0.2</td><td>-0.17</td></tr>\n",
       "<tr><td>1881</td><td>-0.1</td><td>-0.14</td><td>0.01</td><td>-0.03</td><td>-0.04</td><td>-0.28</td><td>-0.07</td><td>-0.03</td><td>-0.09</td><td>-0.2</td><td>-0.26</td><td>-0.16</td><td>-0.12</td><td>-.12</td><td>-.15</td><td>-0.02</td><td>-0.13</td><td>-0.19</td></tr>\n",
       "<tr><td>1882</td><td>0.09</td><td>0.08</td><td>0.01</td><td>-0.2</td><td>-0.18</td><td>-0.25</td><td>-0.11</td><td>0.03</td><td>-0.01</td><td>-0.23</td><td>-0.21</td><td>-0.25</td><td>-0.1</td><td>-.09</td><td>.00</td><td>-0.12</td><td>-0.11</td><td>-0.15</td></tr>\n",
       "<tr><td>1883</td><td>-0.34</td><td>-0.42</td><td>-0.18</td><td>-0.25</td><td>-0.26</td><td>-0.13</td><td>-0.09</td><td>-0.14</td><td>-0.19</td><td>-0.12</td><td>-0.21</td><td>-0.19</td><td>-0.21</td><td>-.22</td><td>-.34</td><td>-0.23</td><td>-0.12</td><td>-0.18</td></tr>\n",
       "<tr><td>1884</td><td>-0.18</td><td>-0.13</td><td>-0.36</td><td>-0.36</td><td>-0.32</td><td>-0.38</td><td>-0.35</td><td>-0.27</td><td>-0.24</td><td>-0.22</td><td>-0.3</td><td>-0.3</td><td>-0.28</td><td>-.28</td><td>-.17</td><td>-0.35</td><td>-0.33</td><td>-0.25</td></tr>\n",
       "<tr><td>1885</td><td>-0.66</td><td>-0.3</td><td>-0.24</td><td>-0.45</td><td>-0.42</td><td>-0.5</td><td>-0.29</td><td>-0.27</td><td>-0.19</td><td>-0.2</td><td>-0.22</td><td>-0.07</td><td>-0.32</td><td>-.33</td><td>-.42</td><td>-0.37</td><td>-0.35</td><td>-0.2</td></tr>\n",
       "<tr><td>1886</td><td>-0.43</td><td>-0.46</td><td>-0.41</td><td>-0.29</td><td>-0.27</td><td>-0.39</td><td>-0.16</td><td>-0.31</td><td>-0.19</td><td>-0.25</td><td>-0.26</td><td>-0.25</td><td>-0.31</td><td>-.29</td><td>-.32</td><td>-0.33</td><td>-0.29</td><td>-0.23</td></tr>\n",
       "<tr><td>1887</td><td>-0.66</td><td>-0.48</td><td>-0.32</td><td>-0.37</td><td>-0.33</td><td>-0.21</td><td>-0.19</td><td>-0.28</td><td>-0.19</td><td>-0.32</td><td>-0.25</td><td>-0.38</td><td>-0.33</td><td>-.32</td><td>-.46</td><td>-0.34</td><td>-0.22</td><td>-0.26</td></tr>\n",
       "<tr><td>1888</td><td>-0.43</td><td>-0.43</td><td>-0.47</td><td>-0.28</td><td>-0.22</td><td>-0.2</td><td>-0.1</td><td>-0.11</td><td>-0.07</td><td>0.01</td><td>0.0</td><td>-0.12</td><td>-0.2</td><td>-.22</td><td>-.41</td><td>-0.33</td><td>-0.14</td><td>-0.02</td></tr>\n",
       "<tr><td>1889</td><td>-0.21</td><td>0.14</td><td>0.04</td><td>0.04</td><td>-0.03</td><td>-0.12</td><td>-0.05</td><td>-0.18</td><td>-0.18</td><td>-0.22</td><td>-0.32</td><td>-0.31</td><td>-0.12</td><td>-.10</td><td>-.06</td><td>0.02</td><td>-0.11</td><td>-0.24</td></tr>\n",
       "<tr><td>...</td><td>...</td><td>...</td><td>...</td><td>...</td><td>...</td><td>...</td><td>...</td><td>...</td><td>...</td><td>...</td><td>...</td><td>...</td><td>...</td><td>...</td><td>...</td><td>...</td><td>...</td><td>...</td></tr>\n",
       "<tr><td>2007</td><td>0.96</td><td>0.7</td><td>0.7</td><td>0.76</td><td>0.67</td><td>0.58</td><td>0.62</td><td>0.6</td><td>0.64</td><td>0.6</td><td>0.57</td><td>0.5</td><td>0.66</td><td>.68</td><td>.81</td><td>0.71</td><td>0.6</td><td>0.6</td></tr>\n",
       "<tr><td>2008</td><td>0.24</td><td>0.36</td><td>0.73</td><td>0.53</td><td>0.51</td><td>0.48</td><td>0.6</td><td>0.44</td><td>0.65</td><td>0.67</td><td>0.66</td><td>0.54</td><td>0.54</td><td>.53</td><td>.37</td><td>0.59</td><td>0.51</td><td>0.66</td></tr>\n",
       "<tr><td>2009</td><td>0.62</td><td>0.53</td><td>0.53</td><td>0.61</td><td>0.65</td><td>0.65</td><td>0.72</td><td>0.66</td><td>0.7</td><td>0.64</td><td>0.77</td><td>0.65</td><td>0.64</td><td>.63</td><td>.56</td><td>0.59</td><td>0.68</td><td>0.7</td></tr>\n",
       "<tr><td>2010</td><td>0.73</td><td>0.78</td><td>0.92</td><td>0.87</td><td>0.75</td><td>0.64</td><td>0.62</td><td>0.65</td><td>0.61</td><td>0.71</td><td>0.79</td><td>0.49</td><td>0.71</td><td>.73</td><td>.72</td><td>0.85</td><td>0.64</td><td>0.71</td></tr>\n",
       "<tr><td>2011</td><td>0.51</td><td>0.53</td><td>0.64</td><td>0.65</td><td>0.53</td><td>0.59</td><td>0.73</td><td>0.73</td><td>0.56</td><td>0.66</td><td>0.56</td><td>0.54</td><td>0.6</td><td>.60</td><td>.51</td><td>0.61</td><td>0.68</td><td>0.59</td></tr>\n",
       "<tr><td>2012</td><td>0.46</td><td>0.49</td><td>0.58</td><td>0.69</td><td>0.76</td><td>0.62</td><td>0.57</td><td>0.63</td><td>0.76</td><td>0.78</td><td>0.75</td><td>0.53</td><td>0.63</td><td>.63</td><td>.50</td><td>0.68</td><td>0.6</td><td>0.76</td></tr>\n",
       "<tr><td>2013</td><td>0.68</td><td>0.55</td><td>0.66</td><td>0.52</td><td>0.61</td><td>0.65</td><td>0.59</td><td>0.66</td><td>0.78</td><td>0.69</td><td>0.81</td><td>0.67</td><td>0.65</td><td>.64</td><td>.58</td><td>0.6</td><td>0.64</td><td>0.76</td></tr>\n",
       "<tr><td>2014</td><td>0.73</td><td>0.51</td><td>0.77</td><td>0.78</td><td>0.87</td><td>0.66</td><td>0.57</td><td>0.82</td><td>0.9</td><td>0.85</td><td>0.67</td><td>0.79</td><td>0.74</td><td>.73</td><td>.64</td><td>0.81</td><td>0.68</td><td>0.81</td></tr>\n",
       "<tr><td>2015</td><td>0.81</td><td>0.86</td><td>0.9</td><td>0.74</td><td>0.78</td><td>0.78</td><td>0.71</td><td>0.78</td><td>0.81</td><td>1.06</td><td>1.04</td><td>1.11</td><td>0.87</td><td>.84</td><td>.82</td><td>0.81</td><td>0.76</td><td>0.97</td></tr>\n",
       "<tr><td>2016</td><td>1.17</td><td>1.35</td><td>1.3</td><td>1.09</td><td>0.93</td><td>0.76</td><td>0.83</td><td>0.98</td><td>0.87</td><td>0.89</td><td>0.93</td><td>0.81</td><td>0.99</td><td>1.02</td><td>1.21</td><td>1.11</td><td>0.85</td><td>0.9</td></tr>\n",
       "</table>"
      ],
      "text/plain": [
       "<Table length=137>\n",
       " Year   Jan     Feb     Mar     Apr   ... D-N  DJF    MAM     JJA     SON  \n",
       "int32 float64 float64 float64 float64 ... str4 str4 float64 float64 float64\n",
       "----- ------- ------- ------- ------- ... ---- ---- ------- ------- -------\n",
       " 1880    -0.3   -0.21   -0.18   -0.27 ...  ***  ***    -0.2    -0.2   -0.17\n",
       " 1881    -0.1   -0.14    0.01   -0.03 ... -.12 -.15   -0.02   -0.13   -0.19\n",
       " 1882    0.09    0.08    0.01    -0.2 ... -.09  .00   -0.12   -0.11   -0.15\n",
       " 1883   -0.34   -0.42   -0.18   -0.25 ... -.22 -.34   -0.23   -0.12   -0.18\n",
       " 1884   -0.18   -0.13   -0.36   -0.36 ... -.28 -.17   -0.35   -0.33   -0.25\n",
       " 1885   -0.66    -0.3   -0.24   -0.45 ... -.33 -.42   -0.37   -0.35    -0.2\n",
       " 1886   -0.43   -0.46   -0.41   -0.29 ... -.29 -.32   -0.33   -0.29   -0.23\n",
       " 1887   -0.66   -0.48   -0.32   -0.37 ... -.32 -.46   -0.34   -0.22   -0.26\n",
       " 1888   -0.43   -0.43   -0.47   -0.28 ... -.22 -.41   -0.33   -0.14   -0.02\n",
       " 1889   -0.21    0.14    0.04    0.04 ... -.10 -.06    0.02   -0.11   -0.24\n",
       "  ...     ...     ...     ...     ... ...  ...  ...     ...     ...     ...\n",
       " 2007    0.96     0.7     0.7    0.76 ...  .68  .81    0.71     0.6     0.6\n",
       " 2008    0.24    0.36    0.73    0.53 ...  .53  .37    0.59    0.51    0.66\n",
       " 2009    0.62    0.53    0.53    0.61 ...  .63  .56    0.59    0.68     0.7\n",
       " 2010    0.73    0.78    0.92    0.87 ...  .73  .72    0.85    0.64    0.71\n",
       " 2011    0.51    0.53    0.64    0.65 ...  .60  .51    0.61    0.68    0.59\n",
       " 2012    0.46    0.49    0.58    0.69 ...  .63  .50    0.68     0.6    0.76\n",
       " 2013    0.68    0.55    0.66    0.52 ...  .64  .58     0.6    0.64    0.76\n",
       " 2014    0.73    0.51    0.77    0.78 ...  .73  .64    0.81    0.68    0.81\n",
       " 2015    0.81    0.86     0.9    0.74 ...  .84  .82    0.81    0.76    0.97\n",
       " 2016    1.17    1.35     1.3    1.09 ... 1.02 1.21    1.11    0.85     0.9"
      ]
     },
     "execution_count": 3,
     "metadata": {},
     "output_type": "execute_result"
    }
   ],
   "source": [
    "dtTable"
   ]
  },
  {
   "cell_type": "markdown",
   "metadata": {},
   "source": [
    "## Create Yearly Map"
   ]
  },
  {
   "cell_type": "code",
   "execution_count": 5,
   "metadata": {
    "collapsed": true
   },
   "outputs": [],
   "source": [
    "from PIL import Image"
   ]
  },
  {
   "cell_type": "code",
   "execution_count": 8,
   "metadata": {
    "collapsed": false
   },
   "outputs": [],
   "source": [
    "tempTexture = Image.new(\"RGB\",(137,1))\n",
    "for i in range(len(dtTable)):\n",
    "    val=int(100*dtTable['J-D'][i].astype(float)+127)\n",
    "    tempTexture.putpixel((i,0),(val,val,val))\n",
    "tempTexture.save('GlobalTempAnomoly_J-D.png')"
   ]
  },
  {
   "cell_type": "code",
   "execution_count": null,
   "metadata": {
    "collapsed": true
   },
   "outputs": [],
   "source": []
  }
 ],
 "metadata": {
  "anaconda-cloud": {},
  "kernelspec": {
   "display_name": "Python [conda root]",
   "language": "python",
   "name": "conda-root-py"
  },
  "language_info": {
   "codemirror_mode": {
    "name": "ipython",
    "version": 3
   },
   "file_extension": ".py",
   "mimetype": "text/x-python",
   "name": "python",
   "nbconvert_exporter": "python",
   "pygments_lexer": "ipython3",
   "version": "3.5.2"
  }
 },
 "nbformat": 4,
 "nbformat_minor": 1
}
