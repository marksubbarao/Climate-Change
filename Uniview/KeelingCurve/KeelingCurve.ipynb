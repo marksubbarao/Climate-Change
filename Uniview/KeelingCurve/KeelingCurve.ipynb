{
 "cells": [
  {
   "cell_type": "markdown",
   "metadata": {},
   "source": [
    "# Keeling graph\n",
    "\n",
    "This notebook process the data for the Uniview Keeling Curve module, the atmospheric concentration of carbon dioxide over time. The curve is named after atmospheric scientist Charles David Keeling. It utilizes data from NOAA's https://www.esrl.noaa.gov/gmd/dv/iadv/graph.php?code=MLO&program=ccgg&type=ts> Earth Systems Research Laboratory collected from their Mauna Loa Observatory. "
   ]
  },
  {
   "cell_type": "code",
   "execution_count": 11,
   "metadata": {
    "collapsed": false
   },
   "outputs": [],
   "source": [
    "from astropy.io import ascii\n",
    "from PIL import Image\n",
    "import numpy as np"
   ]
  },
  {
   "cell_type": "code",
   "execution_count": 4,
   "metadata": {
    "collapsed": false
   },
   "outputs": [
    {
     "data": {
      "text/html": [
       "&lt;Table length=504&gt;\n",
       "<table id=\"table1917829330088\" class=\"table-striped table-bordered table-condensed\">\n",
       "<thead><tr><th>col1</th><th>col2</th><th>col3</th><th>col4</th><th>col5</th><th>col6</th><th>col7</th><th>col8</th><th>col9</th><th>col10</th><th>col11</th><th>col12</th><th>col13</th><th>col14</th><th>col15</th><th>col16</th><th>col17</th></tr></thead>\n",
       "<thead><tr><th>str3</th><th>int32</th><th>int32</th><th>int32</th><th>int32</th><th>int32</th><th>int32</th><th>float64</th><th>float64</th><th>int32</th><th>float64</th><th>float64</th><th>float64</th><th>float64</th><th>float64</th><th>str2</th><th>str3</th></tr></thead>\n",
       "<tr><td>MLO</td><td>1974</td><td>1</td><td>1</td><td>0</td><td>0</td><td>0</td><td>-999.99</td><td>-99.99</td><td>0</td><td>19.536</td><td>-155.576</td><td>3437.0</td><td>3397.0</td><td>40.0</td><td>NA</td><td>*..</td></tr>\n",
       "<tr><td>MLO</td><td>1974</td><td>2</td><td>1</td><td>0</td><td>0</td><td>0</td><td>-999.99</td><td>-99.99</td><td>0</td><td>19.536</td><td>-155.576</td><td>3437.0</td><td>3397.0</td><td>40.0</td><td>NA</td><td>*..</td></tr>\n",
       "<tr><td>MLO</td><td>1974</td><td>3</td><td>1</td><td>0</td><td>0</td><td>0</td><td>-999.99</td><td>-99.99</td><td>0</td><td>19.536</td><td>-155.576</td><td>3437.0</td><td>3397.0</td><td>40.0</td><td>NA</td><td>*..</td></tr>\n",
       "<tr><td>MLO</td><td>1974</td><td>4</td><td>1</td><td>0</td><td>0</td><td>0</td><td>-999.99</td><td>-99.99</td><td>0</td><td>19.536</td><td>-155.576</td><td>3437.0</td><td>3397.0</td><td>40.0</td><td>NA</td><td>*..</td></tr>\n",
       "<tr><td>MLO</td><td>1974</td><td>5</td><td>1</td><td>0</td><td>0</td><td>0</td><td>333.157</td><td>0.286</td><td>15</td><td>19.536</td><td>-155.576</td><td>3437.0</td><td>3397.0</td><td>40.0</td><td>NA</td><td>...</td></tr>\n",
       "<tr><td>MLO</td><td>1974</td><td>6</td><td>1</td><td>0</td><td>0</td><td>0</td><td>332.059</td><td>0.317</td><td>27</td><td>19.536</td><td>-155.576</td><td>3437.0</td><td>3397.0</td><td>40.0</td><td>NA</td><td>...</td></tr>\n",
       "<tr><td>MLO</td><td>1974</td><td>7</td><td>1</td><td>0</td><td>0</td><td>0</td><td>330.988</td><td>0.505</td><td>31</td><td>19.536</td><td>-155.576</td><td>3437.0</td><td>3397.0</td><td>40.0</td><td>NA</td><td>...</td></tr>\n",
       "<tr><td>MLO</td><td>1974</td><td>8</td><td>1</td><td>0</td><td>0</td><td>0</td><td>329.165</td><td>0.659</td><td>31</td><td>19.536</td><td>-155.576</td><td>3437.0</td><td>3397.0</td><td>40.0</td><td>NA</td><td>...</td></tr>\n",
       "<tr><td>MLO</td><td>1974</td><td>9</td><td>1</td><td>0</td><td>0</td><td>0</td><td>327.407</td><td>0.548</td><td>29</td><td>19.536</td><td>-155.576</td><td>3437.0</td><td>3397.0</td><td>40.0</td><td>NA</td><td>...</td></tr>\n",
       "<tr><td>MLO</td><td>1974</td><td>10</td><td>1</td><td>0</td><td>0</td><td>0</td><td>327.201</td><td>0.314</td><td>29</td><td>19.536</td><td>-155.576</td><td>3437.0</td><td>3397.0</td><td>40.0</td><td>NA</td><td>...</td></tr>\n",
       "<tr><td>...</td><td>...</td><td>...</td><td>...</td><td>...</td><td>...</td><td>...</td><td>...</td><td>...</td><td>...</td><td>...</td><td>...</td><td>...</td><td>...</td><td>...</td><td>...</td><td>...</td></tr>\n",
       "<tr><td>MLO</td><td>2015</td><td>3</td><td>1</td><td>0</td><td>0</td><td>0</td><td>401.57</td><td>1.03</td><td>24</td><td>19.536</td><td>-155.576</td><td>3437.0</td><td>3397.0</td><td>40.0</td><td>NA</td><td>...</td></tr>\n",
       "<tr><td>MLO</td><td>2015</td><td>4</td><td>1</td><td>0</td><td>0</td><td>0</td><td>403.31</td><td>0.91</td><td>27</td><td>19.536</td><td>-155.576</td><td>3437.0</td><td>3397.0</td><td>40.0</td><td>NA</td><td>...</td></tr>\n",
       "<tr><td>MLO</td><td>2015</td><td>5</td><td>1</td><td>0</td><td>0</td><td>0</td><td>403.95</td><td>0.33</td><td>30</td><td>19.536</td><td>-155.576</td><td>3437.0</td><td>3397.0</td><td>40.0</td><td>NA</td><td>...</td></tr>\n",
       "<tr><td>MLO</td><td>2015</td><td>6</td><td>1</td><td>0</td><td>0</td><td>0</td><td>402.8</td><td>0.59</td><td>28</td><td>19.536</td><td>-155.576</td><td>3437.0</td><td>3397.0</td><td>40.0</td><td>NA</td><td>...</td></tr>\n",
       "<tr><td>MLO</td><td>2015</td><td>7</td><td>1</td><td>0</td><td>0</td><td>0</td><td>401.27</td><td>0.86</td><td>23</td><td>19.536</td><td>-155.576</td><td>3437.0</td><td>3397.0</td><td>40.0</td><td>NA</td><td>...</td></tr>\n",
       "<tr><td>MLO</td><td>2015</td><td>8</td><td>1</td><td>0</td><td>0</td><td>0</td><td>398.89</td><td>0.6</td><td>28</td><td>19.536</td><td>-155.576</td><td>3437.0</td><td>3397.0</td><td>40.0</td><td>NA</td><td>...</td></tr>\n",
       "<tr><td>MLO</td><td>2015</td><td>9</td><td>1</td><td>0</td><td>0</td><td>0</td><td>397.63</td><td>0.54</td><td>25</td><td>19.536</td><td>-155.576</td><td>3437.0</td><td>3397.0</td><td>40.0</td><td>NA</td><td>...</td></tr>\n",
       "<tr><td>MLO</td><td>2015</td><td>10</td><td>1</td><td>0</td><td>0</td><td>0</td><td>398.3</td><td>0.56</td><td>28</td><td>19.536</td><td>-155.576</td><td>3437.0</td><td>3397.0</td><td>40.0</td><td>NA</td><td>...</td></tr>\n",
       "<tr><td>MLO</td><td>2015</td><td>11</td><td>1</td><td>0</td><td>0</td><td>0</td><td>400.18</td><td>0.96</td><td>27</td><td>19.536</td><td>-155.576</td><td>3437.0</td><td>3397.0</td><td>40.0</td><td>NA</td><td>...</td></tr>\n",
       "<tr><td>MLO</td><td>2015</td><td>12</td><td>1</td><td>0</td><td>0</td><td>0</td><td>401.86</td><td>0.91</td><td>30</td><td>19.536</td><td>-155.576</td><td>3437.0</td><td>3397.0</td><td>40.0</td><td>NA</td><td>...</td></tr>\n",
       "</table>"
      ],
      "text/plain": [
       "<Table length=504>\n",
       "col1  col2  col3  col4  col5  col6 ...  col13   col14   col15  col16 col17\n",
       "str3 int32 int32 int32 int32 int32 ... float64 float64 float64  str2  str3\n",
       "---- ----- ----- ----- ----- ----- ... ------- ------- ------- ----- -----\n",
       " MLO  1974     1     1     0     0 ...  3437.0  3397.0    40.0    NA   *..\n",
       " MLO  1974     2     1     0     0 ...  3437.0  3397.0    40.0    NA   *..\n",
       " MLO  1974     3     1     0     0 ...  3437.0  3397.0    40.0    NA   *..\n",
       " MLO  1974     4     1     0     0 ...  3437.0  3397.0    40.0    NA   *..\n",
       " MLO  1974     5     1     0     0 ...  3437.0  3397.0    40.0    NA   ...\n",
       " MLO  1974     6     1     0     0 ...  3437.0  3397.0    40.0    NA   ...\n",
       " MLO  1974     7     1     0     0 ...  3437.0  3397.0    40.0    NA   ...\n",
       " MLO  1974     8     1     0     0 ...  3437.0  3397.0    40.0    NA   ...\n",
       " MLO  1974     9     1     0     0 ...  3437.0  3397.0    40.0    NA   ...\n",
       " MLO  1974    10     1     0     0 ...  3437.0  3397.0    40.0    NA   ...\n",
       " ...   ...   ...   ...   ...   ... ...     ...     ...     ...   ...   ...\n",
       " MLO  2015     3     1     0     0 ...  3437.0  3397.0    40.0    NA   ...\n",
       " MLO  2015     4     1     0     0 ...  3437.0  3397.0    40.0    NA   ...\n",
       " MLO  2015     5     1     0     0 ...  3437.0  3397.0    40.0    NA   ...\n",
       " MLO  2015     6     1     0     0 ...  3437.0  3397.0    40.0    NA   ...\n",
       " MLO  2015     7     1     0     0 ...  3437.0  3397.0    40.0    NA   ...\n",
       " MLO  2015     8     1     0     0 ...  3437.0  3397.0    40.0    NA   ...\n",
       " MLO  2015     9     1     0     0 ...  3437.0  3397.0    40.0    NA   ...\n",
       " MLO  2015    10     1     0     0 ...  3437.0  3397.0    40.0    NA   ...\n",
       " MLO  2015    11     1     0     0 ...  3437.0  3397.0    40.0    NA   ...\n",
       " MLO  2015    12     1     0     0 ...  3437.0  3397.0    40.0    NA   ..."
      ]
     },
     "execution_count": 4,
     "metadata": {},
     "output_type": "execute_result"
    }
   ],
   "source": [
    "co2Table = ascii.read('co2_mlo_surface-insitu_1_ccgg_MonthlyData.txt')\n",
    "co2Table"
   ]
  },
  {
   "cell_type": "code",
   "execution_count": 4,
   "metadata": {
    "collapsed": false
   },
   "outputs": [],
   "source": [
    "yearCol=co2Table['col2']+(co2Table['col3']-1.0)/12."
   ]
  },
  {
   "cell_type": "markdown",
   "metadata": {},
   "source": [
    "## Plot Data"
   ]
  },
  {
   "cell_type": "code",
   "execution_count": 30,
   "metadata": {
    "collapsed": false
   },
   "outputs": [],
   "source": [
    "#initalize plotting\n",
    "%config InlineBackend.rc = {}\n",
    "import matplotlib\n",
    "import matplotlib.pyplot as plt\n",
    "%matplotlib inline\n",
    "import seaborn as sns"
   ]
  },
  {
   "cell_type": "code",
   "execution_count": 75,
   "metadata": {
    "collapsed": false,
    "scrolled": true
   },
   "outputs": [
    {
     "data": {
      "image/png": "[encoded data removed]",
      "text/plain": [
       "<matplotlib.figure.Figure at 0x21ca40edb70>"
      ]
     },
     "metadata": {},
     "output_type": "display_data"
    }
   ],
   "source": [
    "sns.set_style(style='darkgrid')\n",
    "plt.figure(figsize=(12,6))\n",
    "plt.ylabel(r'$CO_2$ ppm')\n",
    "plt.scatter(yearCol, co2Table['col8'],s=3,alpha=0.5)\n",
    "plt.ylim(320,420)\n",
    "#plt.xlim(1976,2017)\n",
    "plt.tight_layout()\n",
    "plt.savefig('graph.png')"
   ]
  },
  {
   "cell_type": "markdown",
   "metadata": {},
   "source": [
    "## Encode data to texture"
   ]
  },
  {
   "cell_type": "code",
   "execution_count": 76,
   "metadata": {
    "collapsed": false
   },
   "outputs": [
    {
     "data": {
      "text/plain": [
       "42.0"
      ]
     },
     "execution_count": 76,
     "metadata": {},
     "output_type": "execute_result"
    }
   ],
   "source": [
    "504/12"
   ]
  },
  {
   "cell_type": "code",
   "execution_count": 6,
   "metadata": {
    "collapsed": true
   },
   "outputs": [],
   "source": [
    "co2Texture = Image.new(\"RGB\",(42,12))"
   ]
  },
  {
   "cell_type": "code",
   "execution_count": 9,
   "metadata": {
    "collapsed": false
   },
   "outputs": [],
   "source": [
    "for monthData in co2Table:\n",
    "    iYear = monthData['col2']-1974\n",
    "    iMonth = monthData['col3']-1\n",
    "    valR=max(0,int(np.floor(monthData['col8'])-300))\n",
    "    valG=int(256.0*(monthData['col8']-np.floor(monthData['col8'])))\n",
    "    co2Texture.putpixel((iYear,iMonth),(valR,valG,0))"
   ]
  },
  {
   "cell_type": "code",
   "execution_count": 10,
   "metadata": {
    "collapsed": true
   },
   "outputs": [],
   "source": [
    "co2Texture.save('co2_mlo_surface-insitu_1_ccgg_MonthlyData.png')"
   ]
  },
  {
   "cell_type": "code",
   "execution_count": 12,
   "metadata": {
    "collapsed": false
   },
   "outputs": [
    {
     "data": {
      "image/png": "[encoded data removed]",
      "text/plain": [
       "<PIL.Image.Image image mode=RGB size=42x12 at 0x19F6D03F278>"
      ]
     },
     "execution_count": 12,
     "metadata": {},
     "output_type": "execute_result"
    }
   ],
   "source": [
    "co2Texture"
   ]
  }
 ],
 "metadata": {
  "anaconda-cloud": {},
  "kernelspec": {
   "display_name": "Python [conda root]",
   "language": "python",
   "name": "conda-root-py"
  }
 },
 "nbformat": 4,
 "nbformat_minor": 1
}
